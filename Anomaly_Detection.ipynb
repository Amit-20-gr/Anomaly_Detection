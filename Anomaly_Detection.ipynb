{
 "cells": [
  {
   "cell_type": "markdown",
   "id": "4328859b-f5ed-4caa-87ac-584f90d31d32",
   "metadata": {},
   "source": [
    "<h1 style='color:purple' align='center'>Project: Anomaly Detection</h1>"
   ]
  },
  {
   "cell_type": "code",
   "execution_count": 1,
   "id": "32d62823-c687-4c03-8c45-97d5958361ae",
   "metadata": {},
   "outputs": [],
   "source": [
    "import pandas as pd\n",
    "import numpy as np\n",
    "import seaborn as sn\n",
    "import matplotlib.pyplot as plt"
   ]
  },
  {
   "cell_type": "code",
   "execution_count": 2,
   "id": "907c15b6-4a22-42b9-ad38-53193812ff21",
   "metadata": {
    "scrolled": true
   },
   "outputs": [
    {
     "data": {
      "text/html": [
       "<div>\n",
       "<style scoped>\n",
       "    .dataframe tbody tr th:only-of-type {\n",
       "        vertical-align: middle;\n",
       "    }\n",
       "\n",
       "    .dataframe tbody tr th {\n",
       "        vertical-align: top;\n",
       "    }\n",
       "\n",
       "    .dataframe thead th {\n",
       "        text-align: right;\n",
       "    }\n",
       "</style>\n",
       "<table border=\"1\" class=\"dataframe\">\n",
       "  <thead>\n",
       "    <tr style=\"text-align: right;\">\n",
       "      <th></th>\n",
       "      <th>Time</th>\n",
       "      <th>V1</th>\n",
       "      <th>V2</th>\n",
       "      <th>V3</th>\n",
       "      <th>V4</th>\n",
       "      <th>V5</th>\n",
       "      <th>V6</th>\n",
       "      <th>V7</th>\n",
       "      <th>V8</th>\n",
       "      <th>V9</th>\n",
       "      <th>...</th>\n",
       "      <th>V21</th>\n",
       "      <th>V22</th>\n",
       "      <th>V23</th>\n",
       "      <th>V24</th>\n",
       "      <th>V25</th>\n",
       "      <th>V26</th>\n",
       "      <th>V27</th>\n",
       "      <th>V28</th>\n",
       "      <th>Amount</th>\n",
       "      <th>Class</th>\n",
       "    </tr>\n",
       "  </thead>\n",
       "  <tbody>\n",
       "    <tr>\n",
       "      <th>0</th>\n",
       "      <td>111096.0</td>\n",
       "      <td>2.095273</td>\n",
       "      <td>0.005363</td>\n",
       "      <td>-1.448645</td>\n",
       "      <td>0.320803</td>\n",
       "      <td>0.366733</td>\n",
       "      <td>-0.647091</td>\n",
       "      <td>-0.007670</td>\n",
       "      <td>-0.280977</td>\n",
       "      <td>2.187868</td>\n",
       "      <td>...</td>\n",
       "      <td>0.090701</td>\n",
       "      <td>0.622382</td>\n",
       "      <td>0.006800</td>\n",
       "      <td>0.352553</td>\n",
       "      <td>0.323243</td>\n",
       "      <td>-0.466764</td>\n",
       "      <td>-0.026065</td>\n",
       "      <td>-0.058691</td>\n",
       "      <td>1.00</td>\n",
       "      <td>0</td>\n",
       "    </tr>\n",
       "    <tr>\n",
       "      <th>1</th>\n",
       "      <td>79272.0</td>\n",
       "      <td>1.158282</td>\n",
       "      <td>-0.180178</td>\n",
       "      <td>0.967549</td>\n",
       "      <td>0.888652</td>\n",
       "      <td>-0.957101</td>\n",
       "      <td>-0.412826</td>\n",
       "      <td>-0.436789</td>\n",
       "      <td>-0.008261</td>\n",
       "      <td>0.808686</td>\n",
       "      <td>...</td>\n",
       "      <td>0.074346</td>\n",
       "      <td>0.398780</td>\n",
       "      <td>-0.123952</td>\n",
       "      <td>0.457047</td>\n",
       "      <td>0.485607</td>\n",
       "      <td>0.507722</td>\n",
       "      <td>0.001095</td>\n",
       "      <td>0.022840</td>\n",
       "      <td>29.90</td>\n",
       "      <td>0</td>\n",
       "    </tr>\n",
       "    <tr>\n",
       "      <th>2</th>\n",
       "      <td>132593.0</td>\n",
       "      <td>1.953608</td>\n",
       "      <td>-0.626281</td>\n",
       "      <td>-0.273542</td>\n",
       "      <td>0.523814</td>\n",
       "      <td>-1.008114</td>\n",
       "      <td>-0.605656</td>\n",
       "      <td>-0.737915</td>\n",
       "      <td>0.030429</td>\n",
       "      <td>1.513787</td>\n",
       "      <td>...</td>\n",
       "      <td>0.150353</td>\n",
       "      <td>0.537825</td>\n",
       "      <td>0.159876</td>\n",
       "      <td>-0.009313</td>\n",
       "      <td>-0.335374</td>\n",
       "      <td>0.573685</td>\n",
       "      <td>-0.033367</td>\n",
       "      <td>-0.047451</td>\n",
       "      <td>28.75</td>\n",
       "      <td>0</td>\n",
       "    </tr>\n",
       "    <tr>\n",
       "      <th>3</th>\n",
       "      <td>152511.0</td>\n",
       "      <td>0.191138</td>\n",
       "      <td>0.975684</td>\n",
       "      <td>-0.306871</td>\n",
       "      <td>-0.184487</td>\n",
       "      <td>0.998363</td>\n",
       "      <td>-1.317371</td>\n",
       "      <td>1.216015</td>\n",
       "      <td>-0.518100</td>\n",
       "      <td>0.015540</td>\n",
       "      <td>...</td>\n",
       "      <td>0.236043</td>\n",
       "      <td>1.134086</td>\n",
       "      <td>-0.216546</td>\n",
       "      <td>-0.053337</td>\n",
       "      <td>-0.329110</td>\n",
       "      <td>-0.167737</td>\n",
       "      <td>0.229836</td>\n",
       "      <td>-0.028356</td>\n",
       "      <td>8.61</td>\n",
       "      <td>0</td>\n",
       "    </tr>\n",
       "    <tr>\n",
       "      <th>4</th>\n",
       "      <td>140096.0</td>\n",
       "      <td>-3.539055</td>\n",
       "      <td>-4.193024</td>\n",
       "      <td>-3.026249</td>\n",
       "      <td>2.160445</td>\n",
       "      <td>3.760330</td>\n",
       "      <td>-2.281773</td>\n",
       "      <td>0.117071</td>\n",
       "      <td>0.305625</td>\n",
       "      <td>-1.052794</td>\n",
       "      <td>...</td>\n",
       "      <td>1.172759</td>\n",
       "      <td>1.406402</td>\n",
       "      <td>0.650456</td>\n",
       "      <td>0.282794</td>\n",
       "      <td>-0.968230</td>\n",
       "      <td>-0.437851</td>\n",
       "      <td>0.445302</td>\n",
       "      <td>-0.347395</td>\n",
       "      <td>329.96</td>\n",
       "      <td>0</td>\n",
       "    </tr>\n",
       "  </tbody>\n",
       "</table>\n",
       "<p>5 rows × 31 columns</p>\n",
       "</div>"
      ],
      "text/plain": [
       "       Time        V1        V2        V3        V4        V5        V6  \\\n",
       "0  111096.0  2.095273  0.005363 -1.448645  0.320803  0.366733 -0.647091   \n",
       "1   79272.0  1.158282 -0.180178  0.967549  0.888652 -0.957101 -0.412826   \n",
       "2  132593.0  1.953608 -0.626281 -0.273542  0.523814 -1.008114 -0.605656   \n",
       "3  152511.0  0.191138  0.975684 -0.306871 -0.184487  0.998363 -1.317371   \n",
       "4  140096.0 -3.539055 -4.193024 -3.026249  2.160445  3.760330 -2.281773   \n",
       "\n",
       "         V7        V8        V9  ...       V21       V22       V23       V24  \\\n",
       "0 -0.007670 -0.280977  2.187868  ...  0.090701  0.622382  0.006800  0.352553   \n",
       "1 -0.436789 -0.008261  0.808686  ...  0.074346  0.398780 -0.123952  0.457047   \n",
       "2 -0.737915  0.030429  1.513787  ...  0.150353  0.537825  0.159876 -0.009313   \n",
       "3  1.216015 -0.518100  0.015540  ...  0.236043  1.134086 -0.216546 -0.053337   \n",
       "4  0.117071  0.305625 -1.052794  ...  1.172759  1.406402  0.650456  0.282794   \n",
       "\n",
       "        V25       V26       V27       V28  Amount  Class  \n",
       "0  0.323243 -0.466764 -0.026065 -0.058691    1.00      0  \n",
       "1  0.485607  0.507722  0.001095  0.022840   29.90      0  \n",
       "2 -0.335374  0.573685 -0.033367 -0.047451   28.75      0  \n",
       "3 -0.329110 -0.167737  0.229836 -0.028356    8.61      0  \n",
       "4 -0.968230 -0.437851  0.445302 -0.347395  329.96      0  \n",
       "\n",
       "[5 rows x 31 columns]"
      ]
     },
     "execution_count": 2,
     "metadata": {},
     "output_type": "execute_result"
    }
   ],
   "source": [
    "df=pd.read_csv('creditcardfraud.csv')\n",
    "df.head()"
   ]
  },
  {
   "cell_type": "markdown",
   "id": "513f1962-2cde-4208-b113-58714062456e",
   "metadata": {},
   "source": [
    "The dataset consists of 30 features and 1 one target label column. The 30 features comprises highly sensitive information like Geolocation(IP Address, Location), Bank related details i.e.(Account Number, Transaction ID, Account Type) and Time Series like time between transactions and velocity at which transactions occurred. So, for anonymity of data the dataset has features in Vn format and are scaled already."
   ]
  },
  {
   "cell_type": "code",
   "execution_count": 3,
   "id": "bd2f946d-cdd6-4073-81eb-2f3b1bdd4487",
   "metadata": {
    "scrolled": true
   },
   "outputs": [
    {
     "data": {
      "text/plain": [
       "(10492, 31)"
      ]
     },
     "execution_count": 3,
     "metadata": {},
     "output_type": "execute_result"
    }
   ],
   "source": [
    "df.shape"
   ]
  },
  {
   "cell_type": "code",
   "execution_count": 4,
   "id": "c3de399b-9ad3-4df2-b6d7-1924cef13c83",
   "metadata": {
    "scrolled": true
   },
   "outputs": [
    {
     "data": {
      "text/plain": [
       "0"
      ]
     },
     "execution_count": 4,
     "metadata": {},
     "output_type": "execute_result"
    }
   ],
   "source": [
    "df.isnull().sum().sum()"
   ]
  },
  {
   "cell_type": "code",
   "execution_count": 5,
   "id": "1db120bf-f67f-48ae-8715-f37093277c18",
   "metadata": {
    "scrolled": true
   },
   "outputs": [
    {
     "name": "stdout",
     "output_type": "stream",
     "text": [
      "<class 'pandas.core.frame.DataFrame'>\n",
      "RangeIndex: 10492 entries, 0 to 10491\n",
      "Data columns (total 31 columns):\n",
      " #   Column  Non-Null Count  Dtype  \n",
      "---  ------  --------------  -----  \n",
      " 0   Time    10492 non-null  float64\n",
      " 1   V1      10492 non-null  float64\n",
      " 2   V2      10492 non-null  float64\n",
      " 3   V3      10492 non-null  float64\n",
      " 4   V4      10492 non-null  float64\n",
      " 5   V5      10492 non-null  float64\n",
      " 6   V6      10492 non-null  float64\n",
      " 7   V7      10492 non-null  float64\n",
      " 8   V8      10492 non-null  float64\n",
      " 9   V9      10492 non-null  float64\n",
      " 10  V10     10492 non-null  float64\n",
      " 11  V11     10492 non-null  float64\n",
      " 12  V12     10492 non-null  float64\n",
      " 13  V13     10492 non-null  float64\n",
      " 14  V14     10492 non-null  float64\n",
      " 15  V15     10492 non-null  float64\n",
      " 16  V16     10492 non-null  float64\n",
      " 17  V17     10492 non-null  float64\n",
      " 18  V18     10492 non-null  float64\n",
      " 19  V19     10492 non-null  float64\n",
      " 20  V20     10492 non-null  float64\n",
      " 21  V21     10492 non-null  float64\n",
      " 22  V22     10492 non-null  float64\n",
      " 23  V23     10492 non-null  float64\n",
      " 24  V24     10492 non-null  float64\n",
      " 25  V25     10492 non-null  float64\n",
      " 26  V26     10492 non-null  float64\n",
      " 27  V27     10492 non-null  float64\n",
      " 28  V28     10492 non-null  float64\n",
      " 29  Amount  10492 non-null  float64\n",
      " 30  Class   10492 non-null  int64  \n",
      "dtypes: float64(30), int64(1)\n",
      "memory usage: 2.5 MB\n"
     ]
    }
   ],
   "source": [
    "df.info()"
   ]
  },
  {
   "cell_type": "code",
   "execution_count": 6,
   "id": "35885bda-c38d-4b55-88f7-6775fd0465fa",
   "metadata": {
    "scrolled": true
   },
   "outputs": [
    {
     "data": {
      "text/plain": [
       "count    10492.000000\n",
       "mean        90.296560\n",
       "std        308.696285\n",
       "min          0.000000\n",
       "25%          4.990000\n",
       "50%         21.245000\n",
       "75%         77.142500\n",
       "max      18910.000000\n",
       "Name: Amount, dtype: float64"
      ]
     },
     "execution_count": 6,
     "metadata": {},
     "output_type": "execute_result"
    }
   ],
   "source": [
    "df.Amount.describe()"
   ]
  },
  {
   "cell_type": "code",
   "execution_count": 7,
   "id": "c4b85dec-db7f-425a-b713-f80e1f566c65",
   "metadata": {
    "scrolled": true
   },
   "outputs": [
    {
     "data": {
      "text/plain": [
       "count     492.000000\n",
       "mean      122.211321\n",
       "std       256.683288\n",
       "min         0.000000\n",
       "25%         1.000000\n",
       "50%         9.250000\n",
       "75%       105.890000\n",
       "max      2125.870000\n",
       "Name: Amount, dtype: float64"
      ]
     },
     "execution_count": 7,
     "metadata": {},
     "output_type": "execute_result"
    }
   ],
   "source": [
    "df[df['Class'] == 1]['Amount'].describe()"
   ]
  },
  {
   "cell_type": "code",
   "execution_count": 8,
   "id": "ea30c85f-1b4f-4779-a268-0bb2837a1d56",
   "metadata": {
    "scrolled": true
   },
   "outputs": [
    {
     "data": {
      "text/plain": [
       "count    10000.000000\n",
       "mean        88.726354\n",
       "std        310.957193\n",
       "min          0.000000\n",
       "25%          5.370000\n",
       "50%         21.900000\n",
       "75%         75.460000\n",
       "max      18910.000000\n",
       "Name: Amount, dtype: float64"
      ]
     },
     "execution_count": 8,
     "metadata": {},
     "output_type": "execute_result"
    }
   ],
   "source": [
    "df[df['Class'] == 0]['Amount'].describe()"
   ]
  },
  {
   "cell_type": "code",
   "execution_count": 9,
   "id": "d15fe31e-a62d-4328-8f71-bb84da1094ae",
   "metadata": {},
   "outputs": [
    {
     "data": {
      "text/plain": [
       "Text(0, 0.5, 'Class')"
      ]
     },
     "execution_count": 9,
     "metadata": {},
     "output_type": "execute_result"
    },
    {
     "data": {
      "image/png": "[encoded data removed]",
      "text/plain": [
       "<Figure size 640x480 with 1 Axes>"
      ]
     },
     "metadata": {},
     "output_type": "display_data"
    }
   ],
   "source": [
    "plt.scatter(df.Amount,df.Class,marker='.')\n",
    "plt.title('Class Distributions - 0: normal / 1: fraud', fontsize=12)\n",
    "plt.xlabel('Amount($)')\n",
    "plt.ylabel('Class')"
   ]
  },
  {
   "cell_type": "code",
   "execution_count": 10,
   "id": "58b6a245-fb7a-4c60-8e09-7d83fe1486cd",
   "metadata": {},
   "outputs": [
    {
     "data": {
      "text/plain": [
       "Text(0.5, 1.0, 'Class Distributions - 0: normal / 1: fraud')"
      ]
     },
     "execution_count": 10,
     "metadata": {},
     "output_type": "execute_result"
    },
    {
     "data": {
      "image/png": "[encoded data removed]",
      "text/plain": [
       "<Figure size 1200x500 with 2 Axes>"
      ]
     },
     "metadata": {},
     "output_type": "display_data"
    }
   ],
   "source": [
    "plt.figure(figsize=(12,5))\n",
    "label=['normal','fraud']\n",
    "explode=[0.05,0.05]\n",
    "plt.subplot(1,2,2)\n",
    "plt.pie(df['Class'].value_counts(),autopct=\"%0.1f%%\",labels=label,explode=explode,shadow=False)\n",
    "plt.subplot(1,2,1)\n",
    "sn.countplot(x='Class',data = df)\n",
    "plt.title('Class Distributions - 0: normal / 1: fraud', fontsize=12)"
   ]
  },
  {
   "cell_type": "code",
   "execution_count": 11,
   "id": "8f6c77b5-8636-43f2-a7b7-0107c5603a4b",
   "metadata": {},
   "outputs": [
    {
     "data": {
      "text/plain": [
       "Text(0.5, 1.0, 'Number of Transactions per Amount\\n Class : fraud')"
      ]
     },
     "execution_count": 11,
     "metadata": {},
     "output_type": "execute_result"
    },
    {
     "data": {
      "image/png": "[encoded data removed]",
      "text/plain": [
       "<Figure size 640x480 with 1 Axes>"
      ]
     },
     "metadata": {},
     "output_type": "display_data"
    }
   ],
   "source": [
    "subset_class_1 = df[df['Class'] == 1]['Amount']\n",
    "plt.hist(subset_class_1, bins=20, alpha=0.9)\n",
    "plt.xlabel('Amount($)')\n",
    "plt.ylabel('Number of Transactions')\n",
    "plt.title('Number of Transactions per Amount\\n Class : fraud')"
   ]
  },
  {
   "cell_type": "code",
   "execution_count": 12,
   "id": "f77cd124-db41-418f-93a5-b1481859cccd",
   "metadata": {},
   "outputs": [
    {
     "data": {
      "text/plain": [
       "Text(0.5, 1.0, 'Number of Transactions per Amount\\n Class : normal')"
      ]
     },
     "execution_count": 12,
     "metadata": {},
     "output_type": "execute_result"
    },
    {
     "data": {
      "image/png": "[encoded data removed]",
      "text/plain": [
       "<Figure size 640x480 with 1 Axes>"
      ]
     },
     "metadata": {},
     "output_type": "display_data"
    }
   ],
   "source": [
    "subset_class_0 = df[df['Class'] == 0]['Amount']\n",
    "plt.hist(subset_class_0, bins=20, alpha=0.9)\n",
    "plt.xlabel('Amount($)')\n",
    "plt.ylabel('Number of Transactions')\n",
    "plt.title('Number of Transactions per Amount\\n Class : normal')"
   ]
  },
  {
   "cell_type": "code",
   "execution_count": 13,
   "id": "1e606b8f-5987-4ec5-a57a-1d11045d0566",
   "metadata": {},
   "outputs": [],
   "source": [
    "cols = [c for c in df.columns if c not in ['Class']]\n",
    "features = df[cols]\n",
    "target = df['Class']"
   ]
  },
  {
   "cell_type": "markdown",
   "id": "e60f08bd-85df-4945-a95f-0cdcec513363",
   "metadata": {},
   "source": [
    "<h2 style='color:blue'>Handling imbalance dataset using SMOTE</h2>"
   ]
  },
  {
   "cell_type": "code",
   "execution_count": 14,
   "id": "7b77f3fb-165a-459d-905e-1d4b13b298b8",
   "metadata": {
    "scrolled": true
   },
   "outputs": [
    {
     "data": {
      "text/plain": [
       "Class\n",
       "0    10000\n",
       "1    10000\n",
       "Name: count, dtype: int64"
      ]
     },
     "execution_count": 14,
     "metadata": {},
     "output_type": "execute_result"
    }
   ],
   "source": [
    "from imblearn.over_sampling import SMOTE\n",
    "\n",
    "smote = SMOTE(sampling_strategy='minority')\n",
    "x_sm, y_sm = smote.fit_resample(features,target)\n",
    "\n",
    "y_sm.value_counts()"
   ]
  },
  {
   "cell_type": "code",
   "execution_count": 15,
   "id": "a37a4217-d7d7-4881-adbe-a611a13d1d26",
   "metadata": {
    "scrolled": true
   },
   "outputs": [
    {
     "name": "stdout",
     "output_type": "stream",
     "text": [
      "accuracy score 0.6148\n",
      "Report               precision    recall  f1-score   support\n",
      "\n",
      "           0       0.99      0.57      0.72     17442\n",
      "           1       0.24      0.95      0.39      2558\n",
      "\n",
      "    accuracy                           0.61     20000\n",
      "   macro avg       0.61      0.76      0.55     20000\n",
      "weighted avg       0.89      0.61      0.68     20000\n",
      "\n"
     ]
    }
   ],
   "source": [
    "from sklearn.ensemble import IsolationForest\n",
    "from sklearn.metrics import accuracy_score, classification_report\n",
    "fraud_customers=df['Class'].value_counts()[1]/len(df)\n",
    "clf=IsolationForest()#n_estimators=100, max_samples=len(x_sm),contamination=fraud_customers)\n",
    "clf.fit(x_sm)\n",
    "ypred=clf.predict(x_sm)\n",
    "ypred[ypred ==1] =0\n",
    "ypred[ypred== -1] =1\n",
    "print(\"accuracy score\",accuracy_score(ypred, y_sm))\n",
    "print(\"Report\",classification_report(ypred, y_sm))"
   ]
  },
  {
   "cell_type": "code",
   "execution_count": 16,
   "id": "36c8252a-357d-4965-870d-fd16038ca856",
   "metadata": {},
   "outputs": [],
   "source": [
    "from sklearn.model_selection import train_test_split\n",
    "x_train,x_test,y_train,y_test=train_test_split(x_sm,y_sm,test_size=0.2,random_state=48)"
   ]
  },
  {
   "cell_type": "code",
   "execution_count": 17,
   "id": "1a24c71b-284e-4986-b274-29a7abedf124",
   "metadata": {},
   "outputs": [
    {
     "data": {
      "text/html": [
       "<style>#sk-container-id-1 {\n",
       "  /* Definition of color scheme common for light and dark mode */\n",
       "  --sklearn-color-text: black;\n",
       "  --sklearn-color-line: gray;\n",
       "  /* Definition of color scheme for unfitted estimators */\n",
       "  --sklearn-color-unfitted-level-0: #fff5e6;\n",
       "  --sklearn-color-unfitted-level-1: #f6e4d2;\n",
       "  --sklearn-color-unfitted-level-2: #ffe0b3;\n",
       "  --sklearn-color-unfitted-level-3: chocolate;\n",
       "  /* Definition of color scheme for fitted estimators */\n",
       "  --sklearn-color-fitted-level-0: #f0f8ff;\n",
       "  --sklearn-color-fitted-level-1: #d4ebff;\n",
       "  --sklearn-color-fitted-level-2: #b3dbfd;\n",
       "  --sklearn-color-fitted-level-3: cornflowerblue;\n",
       "\n",
       "  /* Specific color for light theme */\n",
       "  --sklearn-color-text-on-default-background: var(--sg-text-color, var(--theme-code-foreground, var(--jp-content-font-color1, black)));\n",
       "  --sklearn-color-background: var(--sg-background-color, var(--theme-background, var(--jp-layout-color0, white)));\n",
       "  --sklearn-color-border-box: var(--sg-text-color, var(--theme-code-foreground, var(--jp-content-font-color1, black)));\n",
       "  --sklearn-color-icon: #696969;\n",
       "\n",
       "  @media (prefers-color-scheme: dark) {\n",
       "    /* Redefinition of color scheme for dark theme */\n",
       "    --sklearn-color-text-on-default-background: var(--sg-text-color, var(--theme-code-foreground, var(--jp-content-font-color1, white)));\n",
       "    --sklearn-color-background: var(--sg-background-color, var(--theme-background, var(--jp-layout-color0, #111)));\n",
       "    --sklearn-color-border-box: var(--sg-text-color, var(--theme-code-foreground, var(--jp-content-font-color1, white)));\n",
       "    --sklearn-color-icon: #878787;\n",
       "  }\n",
       "}\n",
       "\n",
       "#sk-container-id-1 {\n",
       "  color: var(--sklearn-color-text);\n",
       "}\n",
       "\n",
       "#sk-container-id-1 pre {\n",
       "  padding: 0;\n",
       "}\n",
       "\n",
       "#sk-container-id-1 input.sk-hidden--visually {\n",
       "  border: 0;\n",
       "  clip: rect(1px 1px 1px 1px);\n",
       "  clip: rect(1px, 1px, 1px, 1px);\n",
       "  height: 1px;\n",
       "  margin: -1px;\n",
       "  overflow: hidden;\n",
       "  padding: 0;\n",
       "  position: absolute;\n",
       "  width: 1px;\n",
       "}\n",
       "\n",
       "#sk-container-id-1 div.sk-dashed-wrapped {\n",
       "  border: 1px dashed var(--sklearn-color-line);\n",
       "  margin: 0 0.4em 0.5em 0.4em;\n",
       "  box-sizing: border-box;\n",
       "  padding-bottom: 0.4em;\n",
       "  background-color: var(--sklearn-color-background);\n",
       "}\n",
       "\n",
       "#sk-container-id-1 div.sk-container {\n",
       "  /* jupyter's `normalize.less` sets `[hidden] { display: none; }`\n",
       "     but bootstrap.min.css set `[hidden] { display: none !important; }`\n",
       "     so we also need the `!important` here to be able to override the\n",
       "     default hidden behavior on the sphinx rendered scikit-learn.org.\n",
       "     See: https://github.com/scikit-learn/scikit-learn/issues/21755 */\n",
       "  display: inline-block !important;\n",
       "  position: relative;\n",
       "}\n",
       "\n",
       "#sk-container-id-1 div.sk-text-repr-fallback {\n",
       "  display: none;\n",
       "}\n",
       "\n",
       "div.sk-parallel-item,\n",
       "div.sk-serial,\n",
       "div.sk-item {\n",
       "  /* draw centered vertical line to link estimators */\n",
       "  background-image: linear-gradient(var(--sklearn-color-text-on-default-background), var(--sklearn-color-text-on-default-background));\n",
       "  background-size: 2px 100%;\n",
       "  background-repeat: no-repeat;\n",
       "  background-position: center center;\n",
       "}\n",
       "\n",
       "/* Parallel-specific style estimator block */\n",
       "\n",
       "#sk-container-id-1 div.sk-parallel-item::after {\n",
       "  content: \"\";\n",
       "  width: 100%;\n",
       "  border-bottom: 2px solid var(--sklearn-color-text-on-default-background);\n",
       "  flex-grow: 1;\n",
       "}\n",
       "\n",
       "#sk-container-id-1 div.sk-parallel {\n",
       "  display: flex;\n",
       "  align-items: stretch;\n",
       "  justify-content: center;\n",
       "  background-color: var(--sklearn-color-background);\n",
       "  position: relative;\n",
       "}\n",
       "\n",
       "#sk-container-id-1 div.sk-parallel-item {\n",
       "  display: flex;\n",
       "  flex-direction: column;\n",
       "}\n",
       "\n",
       "#sk-container-id-1 div.sk-parallel-item:first-child::after {\n",
       "  align-self: flex-end;\n",
       "  width: 50%;\n",
       "}\n",
       "\n",
       "#sk-container-id-1 div.sk-parallel-item:last-child::after {\n",
       "  align-self: flex-start;\n",
       "  width: 50%;\n",
       "}\n",
       "\n",
       "#sk-container-id-1 div.sk-parallel-item:only-child::after {\n",
       "  width: 0;\n",
       "}\n",
       "\n",
       "/* Serial-specific style estimator block */\n",
       "\n",
       "#sk-container-id-1 div.sk-serial {\n",
       "  display: flex;\n",
       "  flex-direction: column;\n",
       "  align-items: center;\n",
       "  background-color: var(--sklearn-color-background);\n",
       "  padding-right: 1em;\n",
       "  padding-left: 1em;\n",
       "}\n",
       "\n",
       "\n",
       "/* Toggleable style: style used for estimator/Pipeline/ColumnTransformer box that is\n",
       "clickable and can be expanded/collapsed.\n",
       "- Pipeline and ColumnTransformer use this feature and define the default style\n",
       "- Estimators will overwrite some part of the style using the `sk-estimator` class\n",
       "*/\n",
       "\n",
       "/* Pipeline and ColumnTransformer style (default) */\n",
       "\n",
       "#sk-container-id-1 div.sk-toggleable {\n",
       "  /* Default theme specific background. It is overwritten whether we have a\n",
       "  specific estimator or a Pipeline/ColumnTransformer */\n",
       "  background-color: var(--sklearn-color-background);\n",
       "}\n",
       "\n",
       "/* Toggleable label */\n",
       "#sk-container-id-1 label.sk-toggleable__label {\n",
       "  cursor: pointer;\n",
       "  display: block;\n",
       "  width: 100%;\n",
       "  margin-bottom: 0;\n",
       "  padding: 0.5em;\n",
       "  box-sizing: border-box;\n",
       "  text-align: center;\n",
       "}\n",
       "\n",
       "#sk-container-id-1 label.sk-toggleable__label-arrow:before {\n",
       "  /* Arrow on the left of the label */\n",
       "  content: \"▸\";\n",
       "  float: left;\n",
       "  margin-right: 0.25em;\n",
       "  color: var(--sklearn-color-icon);\n",
       "}\n",
       "\n",
       "#sk-container-id-1 label.sk-toggleable__label-arrow:hover:before {\n",
       "  color: var(--sklearn-color-text);\n",
       "}\n",
       "\n",
       "/* Toggleable content - dropdown */\n",
       "\n",
       "#sk-container-id-1 div.sk-toggleable__content {\n",
       "  max-height: 0;\n",
       "  max-width: 0;\n",
       "  overflow: hidden;\n",
       "  text-align: left;\n",
       "  /* unfitted */\n",
       "  background-color: var(--sklearn-color-unfitted-level-0);\n",
       "}\n",
       "\n",
       "#sk-container-id-1 div.sk-toggleable__content.fitted {\n",
       "  /* fitted */\n",
       "  background-color: var(--sklearn-color-fitted-level-0);\n",
       "}\n",
       "\n",
       "#sk-container-id-1 div.sk-toggleable__content pre {\n",
       "  margin: 0.2em;\n",
       "  border-radius: 0.25em;\n",
       "  color: var(--sklearn-color-text);\n",
       "  /* unfitted */\n",
       "  background-color: var(--sklearn-color-unfitted-level-0);\n",
       "}\n",
       "\n",
       "#sk-container-id-1 div.sk-toggleable__content.fitted pre {\n",
       "  /* unfitted */\n",
       "  background-color: var(--sklearn-color-fitted-level-0);\n",
       "}\n",
       "\n",
       "#sk-container-id-1 input.sk-toggleable__control:checked~div.sk-toggleable__content {\n",
       "  /* Expand drop-down */\n",
       "  max-height: 200px;\n",
       "  max-width: 100%;\n",
       "  overflow: auto;\n",
       "}\n",
       "\n",
       "#sk-container-id-1 input.sk-toggleable__control:checked~label.sk-toggleable__label-arrow:before {\n",
       "  content: \"▾\";\n",
       "}\n",
       "\n",
       "/* Pipeline/ColumnTransformer-specific style */\n",
       "\n",
       "#sk-container-id-1 div.sk-label input.sk-toggleable__control:checked~label.sk-toggleable__label {\n",
       "  color: var(--sklearn-color-text);\n",
       "  background-color: var(--sklearn-color-unfitted-level-2);\n",
       "}\n",
       "\n",
       "#sk-container-id-1 div.sk-label.fitted input.sk-toggleable__control:checked~label.sk-toggleable__label {\n",
       "  background-color: var(--sklearn-color-fitted-level-2);\n",
       "}\n",
       "\n",
       "/* Estimator-specific style */\n",
       "\n",
       "/* Colorize estimator box */\n",
       "#sk-container-id-1 div.sk-estimator input.sk-toggleable__control:checked~label.sk-toggleable__label {\n",
       "  /* unfitted */\n",
       "  background-color: var(--sklearn-color-unfitted-level-2);\n",
       "}\n",
       "\n",
       "#sk-container-id-1 div.sk-estimator.fitted input.sk-toggleable__control:checked~label.sk-toggleable__label {\n",
       "  /* fitted */\n",
       "  background-color: var(--sklearn-color-fitted-level-2);\n",
       "}\n",
       "\n",
       "#sk-container-id-1 div.sk-label label.sk-toggleable__label,\n",
       "#sk-container-id-1 div.sk-label label {\n",
       "  /* The background is the default theme color */\n",
       "  color: var(--sklearn-color-text-on-default-background);\n",
       "}\n",
       "\n",
       "/* On hover, darken the color of the background */\n",
       "#sk-container-id-1 div.sk-label:hover label.sk-toggleable__label {\n",
       "  color: var(--sklearn-color-text);\n",
       "  background-color: var(--sklearn-color-unfitted-level-2);\n",
       "}\n",
       "\n",
       "/* Label box, darken color on hover, fitted */\n",
       "#sk-container-id-1 div.sk-label.fitted:hover label.sk-toggleable__label.fitted {\n",
       "  color: var(--sklearn-color-text);\n",
       "  background-color: var(--sklearn-color-fitted-level-2);\n",
       "}\n",
       "\n",
       "/* Estimator label */\n",
       "\n",
       "#sk-container-id-1 div.sk-label label {\n",
       "  font-family: monospace;\n",
       "  font-weight: bold;\n",
       "  display: inline-block;\n",
       "  line-height: 1.2em;\n",
       "}\n",
       "\n",
       "#sk-container-id-1 div.sk-label-container {\n",
       "  text-align: center;\n",
       "}\n",
       "\n",
       "/* Estimator-specific */\n",
       "#sk-container-id-1 div.sk-estimator {\n",
       "  font-family: monospace;\n",
       "  border: 1px dotted var(--sklearn-color-border-box);\n",
       "  border-radius: 0.25em;\n",
       "  box-sizing: border-box;\n",
       "  margin-bottom: 0.5em;\n",
       "  /* unfitted */\n",
       "  background-color: var(--sklearn-color-unfitted-level-0);\n",
       "}\n",
       "\n",
       "#sk-container-id-1 div.sk-estimator.fitted {\n",
       "  /* fitted */\n",
       "  background-color: var(--sklearn-color-fitted-level-0);\n",
       "}\n",
       "\n",
       "/* on hover */\n",
       "#sk-container-id-1 div.sk-estimator:hover {\n",
       "  /* unfitted */\n",
       "  background-color: var(--sklearn-color-unfitted-level-2);\n",
       "}\n",
       "\n",
       "#sk-container-id-1 div.sk-estimator.fitted:hover {\n",
       "  /* fitted */\n",
       "  background-color: var(--sklearn-color-fitted-level-2);\n",
       "}\n",
       "\n",
       "/* Specification for estimator info (e.g. \"i\" and \"?\") */\n",
       "\n",
       "/* Common style for \"i\" and \"?\" */\n",
       "\n",
       ".sk-estimator-doc-link,\n",
       "a:link.sk-estimator-doc-link,\n",
       "a:visited.sk-estimator-doc-link {\n",
       "  float: right;\n",
       "  font-size: smaller;\n",
       "  line-height: 1em;\n",
       "  font-family: monospace;\n",
       "  background-color: var(--sklearn-color-background);\n",
       "  border-radius: 1em;\n",
       "  height: 1em;\n",
       "  width: 1em;\n",
       "  text-decoration: none !important;\n",
       "  margin-left: 1ex;\n",
       "  /* unfitted */\n",
       "  border: var(--sklearn-color-unfitted-level-1) 1pt solid;\n",
       "  color: var(--sklearn-color-unfitted-level-1);\n",
       "}\n",
       "\n",
       ".sk-estimator-doc-link.fitted,\n",
       "a:link.sk-estimator-doc-link.fitted,\n",
       "a:visited.sk-estimator-doc-link.fitted {\n",
       "  /* fitted */\n",
       "  border: var(--sklearn-color-fitted-level-1) 1pt solid;\n",
       "  color: var(--sklearn-color-fitted-level-1);\n",
       "}\n",
       "\n",
       "/* On hover */\n",
       "div.sk-estimator:hover .sk-estimator-doc-link:hover,\n",
       ".sk-estimator-doc-link:hover,\n",
       "div.sk-label-container:hover .sk-estimator-doc-link:hover,\n",
       ".sk-estimator-doc-link:hover {\n",
       "  /* unfitted */\n",
       "  background-color: var(--sklearn-color-unfitted-level-3);\n",
       "  color: var(--sklearn-color-background);\n",
       "  text-decoration: none;\n",
       "}\n",
       "\n",
       "div.sk-estimator.fitted:hover .sk-estimator-doc-link.fitted:hover,\n",
       ".sk-estimator-doc-link.fitted:hover,\n",
       "div.sk-label-container:hover .sk-estimator-doc-link.fitted:hover,\n",
       ".sk-estimator-doc-link.fitted:hover {\n",
       "  /* fitted */\n",
       "  background-color: var(--sklearn-color-fitted-level-3);\n",
       "  color: var(--sklearn-color-background);\n",
       "  text-decoration: none;\n",
       "}\n",
       "\n",
       "/* Span, style for the box shown on hovering the info icon */\n",
       ".sk-estimator-doc-link span {\n",
       "  display: none;\n",
       "  z-index: 9999;\n",
       "  position: relative;\n",
       "  font-weight: normal;\n",
       "  right: .2ex;\n",
       "  padding: .5ex;\n",
       "  margin: .5ex;\n",
       "  width: min-content;\n",
       "  min-width: 20ex;\n",
       "  max-width: 50ex;\n",
       "  color: var(--sklearn-color-text);\n",
       "  box-shadow: 2pt 2pt 4pt #999;\n",
       "  /* unfitted */\n",
       "  background: var(--sklearn-color-unfitted-level-0);\n",
       "  border: .5pt solid var(--sklearn-color-unfitted-level-3);\n",
       "}\n",
       "\n",
       ".sk-estimator-doc-link.fitted span {\n",
       "  /* fitted */\n",
       "  background: var(--sklearn-color-fitted-level-0);\n",
       "  border: var(--sklearn-color-fitted-level-3);\n",
       "}\n",
       "\n",
       ".sk-estimator-doc-link:hover span {\n",
       "  display: block;\n",
       "}\n",
       "\n",
       "/* \"?\"-specific style due to the `<a>` HTML tag */\n",
       "\n",
       "#sk-container-id-1 a.estimator_doc_link {\n",
       "  float: right;\n",
       "  font-size: 1rem;\n",
       "  line-height: 1em;\n",
       "  font-family: monospace;\n",
       "  background-color: var(--sklearn-color-background);\n",
       "  border-radius: 1rem;\n",
       "  height: 1rem;\n",
       "  width: 1rem;\n",
       "  text-decoration: none;\n",
       "  /* unfitted */\n",
       "  color: var(--sklearn-color-unfitted-level-1);\n",
       "  border: var(--sklearn-color-unfitted-level-1) 1pt solid;\n",
       "}\n",
       "\n",
       "#sk-container-id-1 a.estimator_doc_link.fitted {\n",
       "  /* fitted */\n",
       "  border: var(--sklearn-color-fitted-level-1) 1pt solid;\n",
       "  color: var(--sklearn-color-fitted-level-1);\n",
       "}\n",
       "\n",
       "/* On hover */\n",
       "#sk-container-id-1 a.estimator_doc_link:hover {\n",
       "  /* unfitted */\n",
       "  background-color: var(--sklearn-color-unfitted-level-3);\n",
       "  color: var(--sklearn-color-background);\n",
       "  text-decoration: none;\n",
       "}\n",
       "\n",
       "#sk-container-id-1 a.estimator_doc_link.fitted:hover {\n",
       "  /* fitted */\n",
       "  background-color: var(--sklearn-color-fitted-level-3);\n",
       "}\n",
       "</style><div id=\"sk-container-id-1\" class=\"sk-top-container\"><div class=\"sk-text-repr-fallback\"><pre>RandomForestClassifier()</pre><b>In a Jupyter environment, please rerun this cell to show the HTML representation or trust the notebook. <br />On GitHub, the HTML representation is unable to render, please try loading this page with nbviewer.org.</b></div><div class=\"sk-container\" hidden><div class=\"sk-item\"><div class=\"sk-estimator fitted sk-toggleable\"><input class=\"sk-toggleable__control sk-hidden--visually\" id=\"sk-estimator-id-1\" type=\"checkbox\" checked><label for=\"sk-estimator-id-1\" class=\"sk-toggleable__label fitted sk-toggleable__label-arrow fitted\">&nbsp;&nbsp;RandomForestClassifier<a class=\"sk-estimator-doc-link fitted\" rel=\"noreferrer\" target=\"_blank\" href=\"https://scikit-learn.org/1.4/modules/generated/sklearn.ensemble.RandomForestClassifier.html\">?<span>Documentation for RandomForestClassifier</span></a><span class=\"sk-estimator-doc-link fitted\">i<span>Fitted</span></span></label><div class=\"sk-toggleable__content fitted\"><pre>RandomForestClassifier()</pre></div> </div></div></div></div>"
      ],
      "text/plain": [
       "RandomForestClassifier()"
      ]
     },
     "execution_count": 17,
     "metadata": {},
     "output_type": "execute_result"
    }
   ],
   "source": [
    "from sklearn.ensemble import RandomForestClassifier\n",
    "rcf=RandomForestClassifier()\n",
    "rcf.fit(x_train,y_train)"
   ]
  },
  {
   "cell_type": "code",
   "execution_count": 18,
   "id": "9219b465-28b6-47d7-aa38-867557072bab",
   "metadata": {
    "scrolled": true
   },
   "outputs": [
    {
     "data": {
      "text/plain": [
       "0.9945"
      ]
     },
     "execution_count": 18,
     "metadata": {},
     "output_type": "execute_result"
    }
   ],
   "source": [
    "ypred=rcf.predict(x_test)\n",
    "rcf.score(x_test,y_test)"
   ]
  },
  {
   "cell_type": "code",
   "execution_count": 19,
   "id": "ef95a217-d65c-4fe4-98fc-cceefbe36f6f",
   "metadata": {
    "scrolled": true
   },
   "outputs": [
    {
     "name": "stdout",
     "output_type": "stream",
     "text": [
      "accuracy score 0.9945\n",
      "Report               precision    recall  f1-score   support\n",
      "\n",
      "           0       1.00      0.99      0.99      2033\n",
      "           1       0.99      1.00      0.99      1967\n",
      "\n",
      "    accuracy                           0.99      4000\n",
      "   macro avg       0.99      0.99      0.99      4000\n",
      "weighted avg       0.99      0.99      0.99      4000\n",
      "\n"
     ]
    }
   ],
   "source": [
    "ypred=rcf.predict(x_test)\n",
    "print(\"accuracy score\",accuracy_score(ypred, y_test))\n",
    "print(\"Report\",classification_report(ypred, y_test))"
   ]
  }
 ],
 "metadata": {
  "kernelspec": {
   "display_name": "Python 3 (ipykernel)",
   "language": "python",
   "name": "python3"
  },
  "language_info": {
   "codemirror_mode": {
    "name": "ipython",
    "version": 3
   },
   "file_extension": ".py",
   "mimetype": "text/x-python",
   "name": "python",
   "nbconvert_exporter": "python",
   "pygments_lexer": "ipython3",
   "version": "3.11.9"
  }
 },
 "nbformat": 4,
 "nbformat_minor": 5
}
